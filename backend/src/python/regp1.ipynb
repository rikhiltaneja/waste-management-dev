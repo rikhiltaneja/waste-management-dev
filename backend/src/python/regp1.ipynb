{
 "cells": [
  {
   "cell_type": "code",
   "execution_count": null,
   "id": "f814f2b3-b94e-411a-9092-6d87c2f7135d",
   "metadata": {},
   "outputs": [
    {
     "name": "stdout",
     "output_type": "stream",
     "text": [
      "Prediction dataset saved -> regp1.csv\n",
      "Total workers: 150\n"
     ]
    }
   ],
   "source": [
    "import pandas as pd\n",
    "import numpy as np\n",
    "\n",
    "np.random.seed(42)\n",
    "\n",
    "# Number of workers\n",
    "N = 150\n",
    "\n",
    "pred_rows = []\n",
    "for i in range(1, N+1):\n",
    "    tasks_assigned = np.random.randint(5, 20)\n",
    "    tasks_completed = np.random.randint(0, tasks_assigned+1)  # ensure completed <= assigned\n",
    "    \n",
    "    pred_rows.append({\n",
    "        \"worker_id\": i,\n",
    "        \"tasks_assigned\": tasks_assigned,\n",
    "        \"tasks_completed\": tasks_completed,\n",
    "        \"completion_ratio\": round(tasks_completed / tasks_assigned, 3),\n",
    "        \"avg_difficulty\": np.random.randint(1,6),  # integer difficulty\n",
    "        \"locality_rating\": np.random.randint(1,6),  # integer locality\n",
    "        \"citizen_rating\": np.random.randint(1,6)   # integer citizen rating\n",
    "    })\n",
    "\n",
    "pred_df = pd.DataFrame(pred_rows)\n",
    "\n",
    "\n",
    "# Save prediction dataset CSV\n",
    "pred_df.to_csv(\"regp1.csv\", index=False)\n",
    "print(\"Prediction dataset saved -> regp1.csv\")\n",
    "print(f\"Total workers: {len(pred_df)}\")"
   ]
  },
  {
   "cell_type": "code",
   "execution_count": null,
   "id": "780642c8-7bb9-4543-b756-7ff62cbc2f43",
   "metadata": {},
   "outputs": [],
   "source": []
  }
 ],
 "metadata": {
  "kernelspec": {
   "display_name": "Python 3 (ipykernel)",
   "language": "python",
   "name": "python3"
  },
  "language_info": {
   "codemirror_mode": {
    "name": "ipython",
    "version": 3
   },
   "file_extension": ".py",
   "mimetype": "text/x-python",
   "name": "python",
   "nbconvert_exporter": "python",
   "pygments_lexer": "ipython3",
   "version": "3.12.4"
  }
 },
 "nbformat": 4,
 "nbformat_minor": 5
}
