{
 "cells": [
  {
   "cell_type": "code",
   "execution_count": 3,
   "id": "dabb0f5d-86c9-4ad1-9f74-1129e6024547",
   "metadata": {},
   "outputs": [],
   "source": [
    "# import pandas as pd\n",
    "# import numpy as np\n",
    "\n",
    "# np.random.seed(24)\n",
    "# n_predict = 150\n",
    "\n",
    "# predict_df = pd.DataFrame({\n",
    "#     \"worker_id\": np.arange(1001, 1001+n_predict),\n",
    "#     \"assigned_tasks\": np.random.randint(0, 30, n_predict),\n",
    "#     \"avg_difficulty\": np.random.randint(1, 6, n_predict),\n",
    "#     \"locality_rating\": np.random.randint(1, 6, n_predict),\n",
    "#     \"citizen_rating\": np.random.randint(1, 6, n_predict)\n",
    "# })\n",
    "\n",
    "# # Save as CSV\n",
    "# predict_df.to_csv(\"recommp1.csv\", index=False)\n",
    "# print(\"recommp1.csv\")"
   ]
  },
  {
   "cell_type": "code",
   "execution_count": 5,
   "id": "d692b661-d407-43ac-9575-7da3a8ef38cc",
   "metadata": {},
   "outputs": [
    {
     "name": "stdout",
     "output_type": "stream",
     "text": [
      "recommp1.csv\n"
     ]
    }
   ],
   "source": [
    "import pandas as pd\n",
    "import numpy as np\n",
    "\n",
    "np.random.seed(24)\n",
    "n_predict = 150\n",
    "\n",
    "predict_df = pd.DataFrame({\n",
    "    \"worker_id\": np.arange(1001, 1001+n_predict),\n",
    "    \"assigned_tasks\": np.random.randint(0, 30, n_predict),\n",
    "    \"avg_difficulty\": np.random.randint(1, 6, n_predict),\n",
    "    \"locality_rating\": np.random.randint(1, 6, n_predict),\n",
    "    \"citizen_rating\": np.random.randint(1, 6, n_predict)\n",
    "})\n",
    "\n",
    "# if assigned_tasks == 0 → avg_difficulty = 0\n",
    "predict_df.loc[predict_df[\"assigned_tasks\"] == 0, \"avg_difficulty\"] = 0\n",
    "\n",
    "# Save as CSV\n",
    "predict_df.to_csv(\"recommp1.csv\", index=False)\n",
    "print(\"recommp1.csv\")"
   ]
  },
  {
   "cell_type": "code",
   "execution_count": null,
   "id": "6828795f-5149-44d4-9cf8-19393af3d1f6",
   "metadata": {},
   "outputs": [],
   "source": []
  }
 ],
 "metadata": {
  "kernelspec": {
   "display_name": "Python 3 (ipykernel)",
   "language": "python",
   "name": "python3"
  },
  "language_info": {
   "codemirror_mode": {
    "name": "ipython",
    "version": 3
   },
   "file_extension": ".py",
   "mimetype": "text/x-python",
   "name": "python",
   "nbconvert_exporter": "python",
   "pygments_lexer": "ipython3",
   "version": "3.12.4"
  }
 },
 "nbformat": 4,
 "nbformat_minor": 5
}
