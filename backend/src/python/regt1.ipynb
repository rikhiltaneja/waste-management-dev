{
 "cells": [
  {
   "cell_type": "code",
   "execution_count": 1,
   "id": "586ed41b-4803-40f4-bc9f-e84c5ab4a44b",
   "metadata": {
    "scrolled": true
   },
   "outputs": [
    {
     "name": "stdout",
     "output_type": "stream",
     "text": [
      "Training dataset saved -> regt1.csv\n",
      "Total rows: 625\n"
     ]
    }
   ],
   "source": [
    "# import itertools\n",
    "# import pandas as pd\n",
    "\n",
    "# # -----------------------------\n",
    "# # Feature ranges\n",
    "# # -----------------------------\n",
    "# completion_ratios = [0.0, 0.25, 0.5, 0.75, 1.0]  # normalized 0-1\n",
    "# difficulties = [1, 2, 3, 4, 5]                   # avg_difficulty\n",
    "# locality_ratings = [1, 2, 3, 4, 5]              # integer\n",
    "# citizen_ratings = [1, 2, 3, 4, 5]               # integer\n",
    "\n",
    "# rows = []\n",
    "\n",
    "# # -----------------------------\n",
    "# # Generate permutations\n",
    "# # -----------------------------\n",
    "# for comp, diff, lr, cr in itertools.product(completion_ratios, difficulties, locality_ratings, citizen_ratings):\n",
    "    \n",
    "#     # -----------------------------\n",
    "#     # Handle zero completion\n",
    "#     # -----------------------------\n",
    "#     if comp == 0.0:\n",
    "#         feature_score = 0.0\n",
    "#         label = \"Low\"\n",
    "#     else:\n",
    "#         # Regression feature_score based on priority\n",
    "#         feature_score = (\n",
    "#             comp * 0.4 +        # highest priority\n",
    "#             ((diff - 1)/4.0) * 0.3 +\n",
    "#             ((lr - 1)/4.0) * 0.2 +\n",
    "#             ((cr - 1)/4.0) * 0.1\n",
    "#         )\n",
    "#         # Optional: label (Low/Medium/High) for reference\n",
    "#         if feature_score >= 0.7:\n",
    "#             label = \"High\"\n",
    "#         elif feature_score >= 0.4:\n",
    "#             label = \"Medium\"\n",
    "#         else:\n",
    "#             label = \"Low\"\n",
    "\n",
    "#     rows.append({\n",
    "#         \"completion_ratio\": comp,\n",
    "#         \"avg_difficulty\": diff,\n",
    "#         \"locality_rating\": lr,\n",
    "#         \"citizen_rating\": cr,\n",
    "#         \"feature_score\": round(feature_score, 3),\n",
    "#         \"label\": label\n",
    "#     })\n",
    "\n",
    "# # -----------------------------\n",
    "# # Save CSV\n",
    "# # -----------------------------\n",
    "# train_df = pd.DataFrame(rows)\n",
    "# train_df.to_csv(\"regt1.csv\", index=False)\n",
    "# print(\"Training dataset saved -> regt1.csv\")\n",
    "# print(f\"Total rows: {len(train_df)}\")"
   ]
  },
  {
   "cell_type": "code",
   "execution_count": null,
   "id": "8e8db47b-dc5f-4319-aa36-a01c94176556",
   "metadata": {},
   "outputs": [
    {
     "name": "stdout",
     "output_type": "stream",
     "text": [
      "Training dataset saved -> regt1.csv\n",
      "Total rows: 625\n"
     ]
    }
   ],
   "source": [
    "import itertools\n",
    "import pandas as pd\n",
    "\n",
    "\n",
    "# Feature ranges\n",
    "\n",
    "completion_ratios = [0.0, 0.25, 0.5, 0.75, 1.0]\n",
    "difficulties = [1, 2, 3, 4, 5]\n",
    "locality_ratings = [1, 2, 3, 4, 5]\n",
    "citizen_ratings = [1, 2, 3, 4, 5]\n",
    "\n",
    "train_rows = []\n",
    "\n",
    "\n",
    "# Generate permutations with stronger weights\n",
    "\n",
    "for comp, diff, lr, cr in itertools.product(completion_ratios, difficulties, locality_ratings, citizen_ratings):\n",
    "\n",
    "   \n",
    "    # Handle zero completion\n",
    "\n",
    "    if comp == 0.0:\n",
    "        feature_score = 0.0\n",
    "        label = \"Low\"\n",
    "    else:\n",
    "        # Stronger weighting for priority\n",
    "        # Total = 1.0\n",
    "        feature_score = (\n",
    "            comp * 0.5 +           # completion_ratio highest priority\n",
    "            ((diff - 1)/4.0) * 0.25 +  # difficulty second\n",
    "            ((lr - 1)/4.0) * 0.15 +    # locality third\n",
    "            ((cr - 1)/4.0) * 0.10      # citizen rating lowest\n",
    "        )\n",
    "\n",
    "        # Optional: assign discrete label\n",
    "        if feature_score >= 0.7:\n",
    "            label = \"High\"\n",
    "        elif feature_score >= 0.4:\n",
    "            label = \"Medium\"\n",
    "        else:\n",
    "            label = \"Low\"\n",
    "\n",
    "    train_rows.append({\n",
    "        \"completion_ratio\": comp,\n",
    "        \"avg_difficulty\": diff,\n",
    "        \"locality_rating\": lr,\n",
    "        \"citizen_rating\": cr,\n",
    "        \"feature_score\": round(feature_score, 3),\n",
    "        \"label\": label\n",
    "    })\n",
    "\n",
    "\n",
    "# Save training dataset CSV\n",
    "train_df = pd.DataFrame(train_rows)\n",
    "train_df.to_csv(\"regt1.csv\", index=False)\n",
    "print(\"Training dataset saved -> regt1.csv\")\n",
    "print(f\"Total rows: {len(train_df)}\")"
   ]
  },
  {
   "cell_type": "code",
   "execution_count": null,
   "id": "17ebdb14-5b66-40d6-9ac6-e6f6634b6f1b",
   "metadata": {},
   "outputs": [],
   "source": []
  }
 ],
 "metadata": {
  "kernelspec": {
   "display_name": "Python 3 (ipykernel)",
   "language": "python",
   "name": "python3"
  },
  "language_info": {
   "codemirror_mode": {
    "name": "ipython",
    "version": 3
   },
   "file_extension": ".py",
   "mimetype": "text/x-python",
   "name": "python",
   "nbconvert_exporter": "python",
   "pygments_lexer": "ipython3",
   "version": "3.12.4"
  }
 },
 "nbformat": 4,
 "nbformat_minor": 5
}
