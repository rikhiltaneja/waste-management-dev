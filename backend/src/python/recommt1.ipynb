{
 "cells": [
  {
   "cell_type": "code",
   "execution_count": 1,
   "id": "af6fc09f-952a-49be-b3c4-27863952af26",
   "metadata": {},
   "outputs": [
    {
     "name": "stdout",
     "output_type": "stream",
     "text": [
      "✅ recommt1.csv\n"
     ]
    }
   ],
   "source": [
    "# import pandas as pd\n",
    "# import numpy as np\n",
    "# from sklearn.preprocessing import MinMaxScaler\n",
    "\n",
    "# np.random.seed(42)\n",
    "# n_workers = 300   # larger training set\n",
    "\n",
    "# train_df = pd.DataFrame({\n",
    "#     \"worker_id\": np.arange(1, n_workers+1),\n",
    "#     \"assigned_tasks\": np.random.randint(0, 30, n_workers),\n",
    "#     \"avg_difficulty\": np.random.randint(1, 6, n_workers),\n",
    "#     \"locality_rating\": np.random.randint(1, 6, n_workers),\n",
    "#     \"citizen_rating\": np.random.randint(1, 6, n_workers)\n",
    "# })\n",
    "\n",
    "# # Compute suitability score\n",
    "# score = (\n",
    "#     (30 - train_df[\"assigned_tasks\"]) * 0.4 +\n",
    "#     (5 - train_df[\"avg_difficulty\"]) * 0.3 +\n",
    "#     (train_df[\"locality_rating\"]) * 0.2 +\n",
    "#     (train_df[\"citizen_rating\"]) * 0.1\n",
    "# )\n",
    "\n",
    "# scaler = MinMaxScaler(feature_range=(0, 100))\n",
    "# train_df[\"suitability_score\"] = scaler.fit_transform(score.values.reshape(-1, 1))\n",
    "\n",
    "# # Save as CSV\n",
    "# train_df.to_csv(\"recommt1.csv\", index=False)\n",
    "# print(\"recommt1.csv\")"
   ]
  },
  {
   "cell_type": "code",
   "execution_count": 3,
   "id": "c8081693-6e85-46d7-97bf-f05a388be67a",
   "metadata": {},
   "outputs": [
    {
     "name": "stdout",
     "output_type": "stream",
     "text": [
      "recommt1.csv\n"
     ]
    }
   ],
   "source": [
    "import pandas as pd\n",
    "import numpy as np\n",
    "from sklearn.preprocessing import MinMaxScaler\n",
    "\n",
    "np.random.seed(42)\n",
    "n_workers = 300   # larger training set\n",
    "\n",
    "train_df = pd.DataFrame({\n",
    "    \"worker_id\": np.arange(1, n_workers+1),\n",
    "    \"assigned_tasks\": np.random.randint(0, 30, n_workers),\n",
    "    \"avg_difficulty\": np.random.randint(1, 6, n_workers),\n",
    "    \"locality_rating\": np.random.randint(1, 6, n_workers),\n",
    "    \"citizen_rating\": np.random.randint(1, 6, n_workers)\n",
    "})\n",
    "\n",
    "# if assigned_tasks == 0 → avg_difficulty = 0\n",
    "train_df.loc[train_df[\"assigned_tasks\"] == 0, \"avg_difficulty\"] = 0\n",
    "\n",
    "# Compute suitability score\n",
    "score = (\n",
    "    (30 - train_df[\"assigned_tasks\"]) * 0.4 +\n",
    "    (5 - train_df[\"avg_difficulty\"]) * 0.3 +\n",
    "    (train_df[\"locality_rating\"]) * 0.2 +\n",
    "    (train_df[\"citizen_rating\"]) * 0.1\n",
    ")\n",
    "\n",
    "scaler = MinMaxScaler(feature_range=(0, 100))\n",
    "train_df[\"suitability_score\"] = scaler.fit_transform(score.values.reshape(-1, 1))\n",
    "\n",
    "# Save as CSV\n",
    "train_df.to_csv(\"recommt1.csv\", index=False)\n",
    "print(\"recommt1.csv\")"
   ]
  },
  {
   "cell_type": "code",
   "execution_count": null,
   "id": "03351138-360c-4cb5-9775-a1733e285d8c",
   "metadata": {},
   "outputs": [],
   "source": []
  }
 ],
 "metadata": {
  "kernelspec": {
   "display_name": "Python 3 (ipykernel)",
   "language": "python",
   "name": "python3"
  },
  "language_info": {
   "codemirror_mode": {
    "name": "ipython",
    "version": 3
   },
   "file_extension": ".py",
   "mimetype": "text/x-python",
   "name": "python",
   "nbconvert_exporter": "python",
   "pygments_lexer": "ipython3",
   "version": "3.12.4"
  }
 },
 "nbformat": 4,
 "nbformat_minor": 5
}
